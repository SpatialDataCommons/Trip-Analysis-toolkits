{
 "cells": [
  {
   "cell_type": "markdown",
   "id": "6a821a1d-6d9c-4d4c-897c-e1de4ed2ac91",
   "metadata": {},
   "source": [
    "# 1. Initialize"
   ]
  },
  {
   "cell_type": "markdown",
   "id": "9eb37eb1-211f-468a-b940-6a7441490622",
   "metadata": {},
   "source": [
    "### Libraries and Spark context"
   ]
  },
  {
   "cell_type": "code",
   "execution_count": 2,
   "id": "7131549f-70a0-4f59-b361-c157a97fa66a",
   "metadata": {},
   "outputs": [],
   "source": [
    "import pyspark\n",
    "from pyspark.sql import SparkSession\n",
    "from probetrip.project_init import ProjectInit"
   ]
  },
  {
   "cell_type": "code",
   "execution_count": 3,
   "id": "4d27adbb-04b4-4ca8-a093-1479e214029d",
   "metadata": {},
   "outputs": [
    {
     "name": "stderr",
     "output_type": "stream",
     "text": [
      "Warning: Ignoring non-Spark config property: metastore.catalog.default\n",
      "Setting default log level to \"WARN\".\n",
      "To adjust logging level use sc.setLogLevel(newLevel). For SparkR, use setLogLevel(newLevel).\n",
      "24/07/18 14:12:46 WARN Utils: Service 'SparkUI' could not bind on port 4040. Attempting port 4041.\n",
      "24/07/18 14:12:47 WARN Client: Neither spark.yarn.jars nor spark.yarn.archive is set, falling back to uploading libraries under SPARK_HOME.\n"
     ]
    }
   ],
   "source": [
    "spark = SparkSession.builder.master(\"yarn\").appName(\"1_init_project\") \\\n",
    "        .config(\"spark.executor.memory\", \"4g\").config(\"spark.driver.memory\", \"4g\") \\\n",
    "        .config(\"spark.dynamicAllocation.minExecutors\", \"1\").config(\"spark.dynamicAllocation.maxExecutors\", \"3\") \\\n",
    "        .config(\"spark.sql.catalogImplementation\", \"hive\") \\\n",
    "        .config(\"metastore.catalog.default\", \"hive\") \\\n",
    "        .enableHiveSupport() \\\n",
    "        .getOrCreate()"
   ]
  },
  {
   "cell_type": "code",
   "execution_count": 8,
   "id": "6e5df3e3-fee0-4d55-9815-a0b382f71123",
   "metadata": {},
   "outputs": [],
   "source": [
    "spark.stop()"
   ]
  },
  {
   "cell_type": "markdown",
   "id": "a2b03cf6-b59b-47d4-96b9-70d65d1746b2",
   "metadata": {},
   "source": [
    "### Required parameter"
   ]
  },
  {
   "cell_type": "markdown",
   "id": "a4855d2b-2388-4097-b8d2-59a9c77f5d9a",
   "metadata": {},
   "source": [
    "**Directory tree**\n",
    "```\n",
    "project\n",
    "│───probetrip\n",
    "│───dataset\n",
    "│   │───tha_shapefiles\n",
    "│   │   |───tha_admbnda_adm3_rtsd_20220121.shp\n",
    "```"
   ]
  },
  {
   "cell_type": "code",
   "execution_count": 4,
   "id": "a171cc24-e4de-4d19-8f4d-dd75dc1c0059",
   "metadata": {},
   "outputs": [],
   "source": [
    "database_name = \"probe_taxi\"\n",
    "probe_table = \"probe_data\"\n",
    "trip_table = \"trip_point\"\n",
    "od_table = \"od_occupied\"\n",
    "speed_acc_table = \"speed_acc\"\n",
    "spark_stat_table = \"spark_stat\""
   ]
  },
  {
   "cell_type": "markdown",
   "id": "f9b439b0-c8c0-468a-a6f6-5431a7f67c59",
   "metadata": {},
   "source": [
    "# 2. Execution"
   ]
  },
  {
   "cell_type": "code",
   "execution_count": 5,
   "id": "21473e90-eaf5-424e-b521-490ad3a198b7",
   "metadata": {},
   "outputs": [],
   "source": [
    "p_init = ProjectInit(spark=spark, db_name=database_name)"
   ]
  },
  {
   "cell_type": "code",
   "execution_count": 27,
   "id": "25014aae-99b2-449e-b2cb-7b9e7860adf1",
   "metadata": {},
   "outputs": [],
   "source": [
    "p_init.create_probe_table(probe_table)"
   ]
  },
  {
   "cell_type": "code",
   "execution_count": 28,
   "id": "8e0a23ad-05ec-4b5d-b7a5-9958dd0cc5fa",
   "metadata": {},
   "outputs": [],
   "source": [
    "p_init.create_trip_table(trip_table)"
   ]
  },
  {
   "cell_type": "code",
   "execution_count": 29,
   "id": "859502ba-e0d2-41bb-acb4-4d30b188621b",
   "metadata": {},
   "outputs": [],
   "source": [
    "p_init.create_od_table(od_table)"
   ]
  },
  {
   "cell_type": "code",
   "execution_count": 6,
   "id": "32df3f97-d967-4a9c-a966-749960c3bad7",
   "metadata": {},
   "outputs": [
    {
     "name": "stderr",
     "output_type": "stream",
     "text": [
      "24/07/11 16:25:12 WARN HiveClientImpl: Detected HiveConf hive.execution.engine is 'tez' and will be reset to 'mr' to disable useless hive logic\n",
      "Hive Session ID = 3d23619b-3888-4888-a1af-2fb2b0794272\n"
     ]
    }
   ],
   "source": [
    "p_init.create_speed_acc_table(speed_acc_table)"
   ]
  },
  {
   "cell_type": "code",
   "execution_count": 6,
   "id": "297f685c-a3c1-4b54-a385-63f1148f88ad",
   "metadata": {},
   "outputs": [
    {
     "name": "stderr",
     "output_type": "stream",
     "text": [
      "24/07/18 14:13:02 WARN HiveClientImpl: Detected HiveConf hive.execution.engine is 'tez' and will be reset to 'mr' to disable useless hive logic\n",
      "Hive Session ID = a83678ac-b3fd-4767-86bb-0c92b2dc522d\n"
     ]
    }
   ],
   "source": [
    "p_init.create_spark_stat_table(spark_stat_table)"
   ]
  }
 ],
 "metadata": {
  "kernelspec": {
   "display_name": "Python 3 (ipykernel)",
   "language": "python",
   "name": "python3"
  },
  "language_info": {
   "codemirror_mode": {
    "name": "ipython",
    "version": 3
   },
   "file_extension": ".py",
   "mimetype": "text/x-python",
   "name": "python",
   "nbconvert_exporter": "python",
   "pygments_lexer": "ipython3",
   "version": "3.8.12"
  }
 },
 "nbformat": 4,
 "nbformat_minor": 5
}
