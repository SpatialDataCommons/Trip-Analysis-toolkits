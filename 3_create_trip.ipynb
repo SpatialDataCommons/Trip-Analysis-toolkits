{
 "cells": [
  {
   "cell_type": "markdown",
   "id": "a29bb61b-4748-4fce-ab74-6c9240198525",
   "metadata": {},
   "source": [
    "# 1. Initialize"
   ]
  },
  {
   "cell_type": "markdown",
   "id": "e59d20a5-9e6d-4185-bfb8-66c8112124eb",
   "metadata": {},
   "source": [
    "### Libraries and Spark context"
   ]
  },
  {
   "cell_type": "code",
   "execution_count": 2,
   "id": "5f4d6a40-c897-4f46-8b6c-1535806dd4a7",
   "metadata": {},
   "outputs": [],
   "source": [
    "import pyspark\n",
    "from pyspark.sql import SparkSession\n",
    "from probetrip.trip import Trip"
   ]
  },
  {
   "cell_type": "code",
   "execution_count": 12,
   "id": "6e392828-a3f2-4984-9cd5-24cbb13179a9",
   "metadata": {},
   "outputs": [
    {
     "name": "stderr",
     "output_type": "stream",
     "text": [
      "24/07/19 09:03:35 WARN Utils: Service 'SparkUI' could not bind on port 4040. Attempting port 4041.\n",
      "24/07/19 09:03:35 WARN Client: Neither spark.yarn.jars nor spark.yarn.archive is set, falling back to uploading libraries under SPARK_HOME.\n"
     ]
    }
   ],
   "source": [
    "'''\n",
    ".config(\"spark.dynamicAllocation.enabled\", \"true\") \\\n",
    ".config(\"spark.dynamicAllocation.minExecutors\", \"1\").config(\"spark.dynamicAllocation.maxExecutors\", \"3\") \\\n",
    "'''\n",
    "spark = SparkSession.builder.master(\"yarn\").appName(\"3_create_trip\") \\\n",
    "        .config(\"spark.executor.cores\", \"2\").config(\"spark.driver.cores\", \"1\") \\\n",
    "        .config(\"spark.executor.memory\", \"6g\").config(\"spark.driver.memory\", \"2g\") \\\n",
    "        .config(\"spark.executor.instances\", \"3\") \\\n",
    "        .config(\"spark.sql.catalogImplementation\", \"hive\") \\\n",
    "        .config(\"metastore.catalog.default\", \"hive\") \\\n",
    "        .enableHiveSupport() \\\n",
    "        .getOrCreate()"
   ]
  },
  {
   "cell_type": "code",
   "execution_count": 127,
   "id": "ea8abae9-1c0d-4d67-b1a6-543c7d637969",
   "metadata": {},
   "outputs": [],
   "source": [
    "spark.stop()"
   ]
  },
  {
   "cell_type": "markdown",
   "id": "97246811-8937-4679-911d-fb63947934c2",
   "metadata": {},
   "source": [
    "### Required parameter"
   ]
  },
  {
   "cell_type": "markdown",
   "id": "2e10adb2-f380-4f15-9229-6c9c3329921f",
   "metadata": {},
   "source": [
    "**Probe table structure** (input table)\n",
    "<table style='float:left;'>\n",
    "    <tr>\n",
    "        <th style='text-align: left;'>Name</th>\n",
    "        <th style='text-align: left;'>Data type</th>\n",
    "        <th style='text-align: left;'>Example</th>\n",
    "    </tr>\n",
    "    <tr>\n",
    "        <td style='text-align: left;'>vehicle_id</td>\n",
    "        <td style='text-align: left;'>string</td>\n",
    "        <td style='text-align: left;'>vHscKFQJlnlim4T7dk/9c7xACjU</td>\n",
    "    </tr>\n",
    "    <tr>\n",
    "        <td style='text-align: left;'>gpsvalid</td>\n",
    "        <td style='text-align: left;'>integer</td>\n",
    "        <td style='text-align: left;'>1</td>\n",
    "    </tr>\n",
    "    <tr>\n",
    "        <td style='text-align: left;'>lat</td>\n",
    "        <td style='text-align: left;'>float</td>\n",
    "        <td style='text-align: left;'>13.80699</td>\n",
    "    </tr>\n",
    "    <tr>\n",
    "        <td style='text-align: left;'>lon</td>\n",
    "        <td style='text-align: left;'>float</td>\n",
    "        <td style='text-align: left;'>100.54299</td>\n",
    "    </tr>\n",
    "    <tr>\n",
    "        <td style='text-align: left;'>date_time</td>\n",
    "        <td style='text-align: left;'>timestamp</td>\n",
    "        <td style='text-align: left;'>2023-02-01 12:34:37</td>\n",
    "    </tr>\n",
    "    <tr>\n",
    "        <td style='text-align: left;'>speed</td>\n",
    "        <td style='text-align: left;'>float</td>\n",
    "        <td style='text-align: left;'>0</td>\n",
    "    </tr>\n",
    "    <tr>\n",
    "        <td style='text-align: left;'>heading</td>\n",
    "        <td style='text-align: left;'>integer</td>\n",
    "        <td style='text-align: left;'>1</td>\n",
    "    </tr>\n",
    "    <tr>\n",
    "        <td style='text-align: left;'>for_hire_light</td>\n",
    "        <td style='text-align: left;'>integer</td>\n",
    "        <td style='text-align: left;'>1</td>\n",
    "    </tr>\n",
    "    <tr>\n",
    "        <td style='text-align: left;'>engine_acc</td>\n",
    "        <td style='text-align: left;'>integer</td>\n",
    "        <td style='text-align: left;'>0</td>\n",
    "    </tr>\n",
    "    <tr>\n",
    "        <td style='text-align: left;'>partition_month</td>\n",
    "        <td style='text-align: left;'>string</td>\n",
    "        <td style='text-align: left;'>202302</td>\n",
    "    </tr>\n",
    "</table>"
   ]
  },
  {
   "cell_type": "markdown",
   "id": "5f18977a-6b12-41c3-88dd-1e4e36baac1a",
   "metadata": {},
   "source": [
    "**Trip table structure** (output table)\n",
    "<table style='float:left;'>\n",
    "    <tr>\n",
    "        <th style='text-align: left;'>Name</th>\n",
    "        <th style='text-align: left;'>Data type</th>\n",
    "        <th style='text-align: left;'>Example (Stay)</th>\n",
    "        <th style='text-align: left;'>Example (Move)</th>\n",
    "    </tr>\n",
    "    <tr>\n",
    "        <td style='text-align: left;'>id</td>\n",
    "        <td style='text-align: left;'>string</td>\n",
    "        <td style='text-align: left;'>+1indEOKr/ikPVrJQTVjw4FGxBE</td>\n",
    "        <td style='text-align: left;'>+1indEOKr/ikPVrJQTVjw4FGxBE</td>\n",
    "    </tr>\n",
    "    <tr>\n",
    "        <td style='text-align: left;'>trip_date</td>\n",
    "        <td style='text-align: left;'>date </td>\n",
    "        <td style='text-align: left;'>2023-01-01</td>\n",
    "        <td style='text-align: left;'>2023-01-01</td>\n",
    "    </tr>\n",
    "    <tr>\n",
    "        <td style='text-align: left;'>trip_sequence</td>\n",
    "        <td style='text-align: left;'>integer</td>\n",
    "        <td style='text-align: left;'>1</td>\n",
    "        <td style='text-align: left;'>1</td>\n",
    "    </tr>\n",
    "    <tr>\n",
    "        <td style='text-align: left;'>trip_sequence</td>\n",
    "        <td style='text-align: left;'>integer</td>\n",
    "        <td style='text-align: left;'>1</td>\n",
    "        <td style='text-align: left;'>1</td>\n",
    "    </tr>\n",
    "    <tr>\n",
    "        <td style='text-align: left;'>mobility_type</td>\n",
    "        <td style='text-align: left;'>string</td>\n",
    "        <td style='text-align: left;'>STAY</td>\n",
    "        <td style='text-align: left;'>MOVE</td>\n",
    "    </tr>\n",
    "    <tr>\n",
    "        <td style='text-align: left;'>passenger</td>\n",
    "        <td style='text-align: left;'>integer</td>\n",
    "        <td style='text-align: left;'>0</td>\n",
    "        <td style='text-align: left;'>1</td>\n",
    "    </tr>\n",
    "    <tr>\n",
    "        <td style='text-align: left;'>total_distance (km)</td>\n",
    "        <td style='text-align: left;'>float</td>\n",
    "        <td style='text-align: left;'>0.0</td>\n",
    "        <td style='text-align: left;'>209.57</td>\n",
    "    </tr>\n",
    "    <tr>\n",
    "        <td style='text-align: left;'>total_time (minutes)</td>\n",
    "        <td style='text-align: left;'>float</td>\n",
    "        <td style='text-align: left;'>318.53</td>\n",
    "        <td style='text-align: left;'>390.3</td>\n",
    "    </tr>\n",
    "    <tr>\n",
    "        <td style='text-align: left;'>overall_speed (km/h)</td>\n",
    "        <td style='text-align: left;'>float</td>\n",
    "        <td style='text-align: left;'>318.53</td>\n",
    "        <td style='text-align: left;'>32.22</td>\n",
    "    </tr>\n",
    "    <tr>\n",
    "        <td style='text-align: left;'>average_speed (km/h)</td>\n",
    "        <td style='text-align: left;'>float</td>\n",
    "        <td style='text-align: left;'>0.0</td>\n",
    "        <td style='text-align: left;'>28.8</td>\n",
    "    </tr>\n",
    "    <tr>\n",
    "        <td style='text-align: left;'>start_time</td>\n",
    "        <td style='text-align: left;'>string</td>\n",
    "        <td style='text-align: left;'>00:02:49</td>\n",
    "        <td style='text-align: left;'>05:21:21</td>\n",
    "    </tr>\n",
    "    <tr>\n",
    "        <td style='text-align: left;'>end_time</td>\n",
    "        <td style='text-align: left;'>string</td>\n",
    "        <td style='text-align: left;'>05:21:21</td>\n",
    "        <td style='text-align: left;'>11:51:39</td>\n",
    "    </tr>\n",
    "    <tr>\n",
    "        <td style='text-align: left;'>total_points</td>\n",
    "        <td style='text-align: left;'>integer</td>\n",
    "        <td style='text-align: left;'>121</td>\n",
    "        <td style='text-align: left;'>283</td>\n",
    "    </tr>\n",
    "    <tr>\n",
    "        <td style='text-align: left;'>sub_district</td>\n",
    "        <td style='text-align: left;'>string</td>\n",
    "        <td style='text-align: left;'>Lam Phak Kut</td>\n",
    "        <td style='text-align: left;'></td>\n",
    "    </tr>\n",
    "    <tr>\n",
    "        <td style='text-align: left;'>district</td>\n",
    "        <td style='text-align: left;'>string</td>\n",
    "        <td style='text-align: left;'>Thanyaburi</td>\n",
    "        <td style='text-align: left;'></td>\n",
    "    </tr>\n",
    "    <tr>\n",
    "        <td style='text-align: left;'>province</td>\n",
    "        <td style='text-align: left;'>string</td>\n",
    "        <td style='text-align: left;'>Pathum Thani</td>\n",
    "        <td style='text-align: left;'></td>\n",
    "    </tr>\n",
    "    <tr>\n",
    "        <td style='text-align: left;'>point_list</td>\n",
    "        <td style='text-align: left;'>string</td>\n",
    "        <td style='text-align: left;'>[[14.032970,100.786000]]</td>\n",
    "        <td style='text-align: left;'>[[\"05:21:21\",14.03297,100.786],[\"05:22:21\",14.0346,100.78606], ..., [\"11:51:39\",14.03296,100.78601]]</td>\n",
    "    </tr>\n",
    "    <tr>\n",
    "        <td style='text-align: left;'>partition_month</td>\n",
    "        <td style='text-align: left;'>string</td>\n",
    "        <td style='text-align: left;'>202301</td>\n",
    "        <td style='text-align: left;'>202301</td>\n",
    "    </tr>\n",
    "</table>"
   ]
  },
  {
   "cell_type": "code",
   "execution_count": null,
   "id": "77b487dc-0945-4779-8eb3-dd73c78419c0",
   "metadata": {},
   "outputs": [],
   "source": [
    "database_name = \"probe_taxi\"\n",
    "probe_table = \"probe_data\"\n",
    "trip_table = \"trip_point\"\n",
    "spark_stat_table='spark_stat'\n",
    "shape_path = \"dataset/tha_shapefiles/tha_admbnda_adm3_rtsd_20220121.shp\"\n",
    "\n",
    "start_date = '20230101'\n",
    "end_date = '20230101'\n",
    "distance_threshold = 0.15 # kilometers\n",
    "duration_threshold = 8    # minutes"
   ]
  },
  {
   "cell_type": "markdown",
   "id": "585270e0-235c-408f-b81f-74e6eab2c7fa",
   "metadata": {},
   "source": [
    "# 2. Execution"
   ]
  },
  {
   "cell_type": "code",
   "execution_count": 6,
   "id": "77c719bf-de28-4834-9c67-97083156fbc6",
   "metadata": {},
   "outputs": [],
   "source": [
    "trip = Trip(spark, database_name, probe_table, trip_table, shape_path)"
   ]
  },
  {
   "cell_type": "code",
   "execution_count": 8,
   "id": "70e1767b-eedb-484a-a5d4-4c71c1e8381d",
   "metadata": {},
   "outputs": [
    {
     "name": "stderr",
     "output_type": "stream",
     "text": [
      "Step 6: 100%|██████████| 6/6 [55:47<00:00, 557.85s/it]                          \n",
      "                                                                                \r"
     ]
    },
    {
     "name": "stdout",
     "output_type": "stream",
     "text": [
      "Generate Probe trip point by user on 20230101 to 20230131 successfuly! \t | Process time: 55.79 mins\n"
     ]
    }
   ],
   "source": [
    "trip.generate_trip(start_date, end_date, distance_threshold, duration_threshold, verbose=False, spark_stat_table=spark_stat_table)"
   ]
  },
  {
   "cell_type": "code",
   "execution_count": null,
   "id": "a77889f9-71bf-4d83-a289-a77ecbc63c97",
   "metadata": {},
   "outputs": [],
   "source": []
  }
 ],
 "metadata": {
  "kernelspec": {
   "display_name": "Python 3 (ipykernel)",
   "language": "python",
   "name": "python3"
  },
  "language_info": {
   "codemirror_mode": {
    "name": "ipython",
    "version": 3
   },
   "file_extension": ".py",
   "mimetype": "text/x-python",
   "name": "python",
   "nbconvert_exporter": "python",
   "pygments_lexer": "ipython3",
   "version": "3.8.12"
  }
 },
 "nbformat": 4,
 "nbformat_minor": 5
}
