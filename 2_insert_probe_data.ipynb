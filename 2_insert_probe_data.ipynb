{
 "cells": [
  {
   "cell_type": "markdown",
   "id": "2ba02e4f-8c22-4bc4-aa2f-daa507259f7d",
   "metadata": {},
   "source": [
    "# 1. Initialize"
   ]
  },
  {
   "cell_type": "markdown",
   "id": "2178a759-361b-4f4f-adab-5dcce3ac907a",
   "metadata": {},
   "source": [
    "### Libraries and Spark context"
   ]
  },
  {
   "cell_type": "code",
   "execution_count": 2,
   "id": "3224a5ff-bff4-45b5-95db-0d0cdf404573",
   "metadata": {},
   "outputs": [],
   "source": [
    "import pyspark\n",
    "from pyspark.sql import SparkSession\n",
    "from probetrip.probe import Probe"
   ]
  },
  {
   "cell_type": "code",
   "execution_count": 3,
   "id": "fe55e8a1-fab3-4c36-be61-c286ada8a227",
   "metadata": {},
   "outputs": [
    {
     "name": "stderr",
     "output_type": "stream",
     "text": [
      "Warning: Ignoring non-Spark config property: metastore.catalog.default\n",
      "Setting default log level to \"WARN\".\n",
      "To adjust logging level use sc.setLogLevel(newLevel). For SparkR, use setLogLevel(newLevel).\n",
      "24/07/11 09:38:02 WARN Utils: Service 'SparkUI' could not bind on port 4040. Attempting port 4041.\n",
      "24/07/11 09:38:03 WARN Client: Neither spark.yarn.jars nor spark.yarn.archive is set, falling back to uploading libraries under SPARK_HOME.\n"
     ]
    }
   ],
   "source": [
    "spark = SparkSession.builder.master(\"yarn\").appName(\"2_insert_probe\") \\\n",
    "        .config(\"spark.executor.memory\", \"4g\").config(\"spark.driver.memory\", \"4g\") \\\n",
    "        .config(\"spark.dynamicAllocation.minExecutors\", \"1\").config(\"spark.dynamicAllocation.maxExecutors\", \"3\") \\\n",
    "        .config(\"spark.sql.catalogImplementation\", \"hive\") \\\n",
    "        .config(\"metastore.catalog.default\", \"hive\") \\\n",
    "        .enableHiveSupport() \\\n",
    "        .getOrCreate()"
   ]
  },
  {
   "cell_type": "code",
   "execution_count": 8,
   "id": "dd39fb19-a3e2-489f-a020-430af37a7cf8",
   "metadata": {},
   "outputs": [],
   "source": [
    "spark.stop()"
   ]
  },
  {
   "cell_type": "markdown",
   "id": "406142db-ee2c-4d62-b9e9-53f60b13ffc1",
   "metadata": {},
   "source": [
    "### Required parameter"
   ]
  },
  {
   "cell_type": "code",
   "execution_count": 35,
   "id": "19e26cbc-75bc-4cd9-9875-ca214f76f5b5",
   "metadata": {},
   "outputs": [],
   "source": [
    "database_name = \"probe_taxi\"\n",
    "probe_table = \"probe_data\"\n",
    "\n",
    "month = \"202302\"\n",
    "folder_path = \"dataset/probe/\""
   ]
  },
  {
   "cell_type": "markdown",
   "id": "0216ffa5-7dd4-4885-b1f0-a01f276fbad2",
   "metadata": {},
   "source": [
    "# 2. Execution"
   ]
  },
  {
   "cell_type": "code",
   "execution_count": 5,
   "id": "0de1d38b-a00a-441f-984f-4a8f7d0bdfa9",
   "metadata": {},
   "outputs": [],
   "source": [
    "probe = Probe(spark, database_name, probe_table, month, folder_path)"
   ]
  },
  {
   "cell_type": "code",
   "execution_count": 6,
   "id": "f09d62c7-eeec-4b5d-9d7d-87deda29fd5c",
   "metadata": {},
   "outputs": [
    {
     "name": "stdout",
     "output_type": "stream",
     "text": [
      "File downloaded successfully: dataset/probe/PROBE-202302.tar.bz2\n",
      "CPU times: user 8.56 s, sys: 2.14 s, total: 10.7 s\n",
      "Wall time: 2min 44s\n"
     ]
    }
   ],
   "source": [
    "%%time\n",
    "probe.get_data()"
   ]
  },
  {
   "cell_type": "code",
   "execution_count": 7,
   "id": "7bacb4bc-13fd-4019-9859-b8122b75856d",
   "metadata": {},
   "outputs": [
    {
     "name": "stdout",
     "output_type": "stream",
     "text": [
      "Successfully extracted PROBE-202302.tar.bz2 to dataset/probe/\n",
      "CPU times: user 1min 23s, sys: 1.55 s, total: 1min 25s\n",
      "Wall time: 1min 25s\n"
     ]
    }
   ],
   "source": [
    "%%time\n",
    "probe.extract_file()"
   ]
  },
  {
   "cell_type": "code",
   "execution_count": 46,
   "id": "e2506db4-da0b-4486-8967-797614d5ca79",
   "metadata": {},
   "outputs": [
    {
     "name": "stderr",
     "output_type": "stream",
     "text": [
      "24/07/10 17:55:30 WARN HiveClientImpl: Detected HiveConf hive.execution.engine is 'tez' and will be reset to 'mr' to disable useless hive logic\n",
      "Hive Session ID = 32527e62-2e83-4aa2-86ef-b1e257dfdb8e\n",
      "24/07/10 17:55:37 WARN TaskSetManager: Stage 0 contains a task of very large size (68253 KiB). The maximum recommended task size is 1000 KiB.\n",
      "                                                                                \r"
     ]
    },
    {
     "name": "stdout",
     "output_type": "stream",
     "text": [
      "Insert Probe data on 20230201 successfuly! | Process time: 1.59 mins\n"
     ]
    }
   ],
   "source": [
    "probe.insert_data('20230201', '20230201')"
   ]
  }
 ],
 "metadata": {
  "kernelspec": {
   "display_name": "Python 3 (ipykernel)",
   "language": "python",
   "name": "python3"
  },
  "language_info": {
   "codemirror_mode": {
    "name": "ipython",
    "version": 3
   },
   "file_extension": ".py",
   "mimetype": "text/x-python",
   "name": "python",
   "nbconvert_exporter": "python",
   "pygments_lexer": "ipython3",
   "version": "3.8.12"
  }
 },
 "nbformat": 4,
 "nbformat_minor": 5
}
