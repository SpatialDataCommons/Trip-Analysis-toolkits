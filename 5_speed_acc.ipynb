{
 "cells": [
  {
   "cell_type": "markdown",
   "id": "d8ed5ec6-b6a4-4a6a-9b4a-0aa55f82ccd8",
   "metadata": {},
   "source": [
    "# 1. Initialize"
   ]
  },
  {
   "cell_type": "markdown",
   "id": "ec3efcb8-578b-4102-b57e-5a6b617f34aa",
   "metadata": {},
   "source": [
    "### Libraries and Spark context"
   ]
  },
  {
   "cell_type": "code",
   "execution_count": 16,
   "id": "94bf73ed-b58a-42b9-a962-7a0ac6df828f",
   "metadata": {},
   "outputs": [],
   "source": [
    "import pyspark\n",
    "from pyspark.sql import SparkSession\n",
    "from probetrip.vehicle_performance import VehiclePerformance"
   ]
  },
  {
   "cell_type": "code",
   "execution_count": 17,
   "id": "02e5d592-70dd-46c7-b54e-f0911f1aae99",
   "metadata": {},
   "outputs": [
    {
     "name": "stderr",
     "output_type": "stream",
     "text": [
      "24/07/16 11:39:57 WARN Utils: Service 'SparkUI' could not bind on port 4040. Attempting port 4041.\n",
      "24/07/16 11:39:57 WARN Client: Neither spark.yarn.jars nor spark.yarn.archive is set, falling back to uploading libraries under SPARK_HOME.\n"
     ]
    }
   ],
   "source": [
    "spark = SparkSession.builder.master(\"yarn\").appName(\"5_speed_acc\") \\\n",
    "        .config(\"spark.executor.memory\", \"4g\").config(\"spark.driver.memory\", \"4g\") \\\n",
    "        .config(\"spark.dynamicAllocation.minExecutors\", \"1\").config(\"spark.dynamicAllocation.maxExecutors\", \"3\") \\\n",
    "        .config(\"spark.sql.catalogImplementation\", \"hive\") \\\n",
    "        .config(\"metastore.catalog.default\", \"hive\") \\\n",
    "        .enableHiveSupport() \\\n",
    "        .getOrCreate()"
   ]
  },
  {
   "cell_type": "code",
   "execution_count": 23,
   "id": "4fd5bd50-0baf-47d8-acf3-d76ab11a3dd8",
   "metadata": {},
   "outputs": [],
   "source": [
    "spark.stop()"
   ]
  },
  {
   "cell_type": "markdown",
   "id": "47e64914-5918-4ff0-b10a-0660871fb267",
   "metadata": {},
   "source": [
    "### Required parameter"
   ]
  },
  {
   "cell_type": "markdown",
   "id": "c75e818d-9e60-442c-8d6d-23342d5118d4",
   "metadata": {},
   "source": [
    "**Trip table structure** (input table)\n",
    "<table style='float:left;'>\n",
    "    <tr>\n",
    "        <th style='text-align: left;'>Name</th>\n",
    "        <th style='text-align: left;'>Data type</th>\n",
    "        <th style='text-align: left;'>Example (Stay)</th>\n",
    "        <th style='text-align: left;'>Example (Move)</th>\n",
    "    </tr>\n",
    "    <tr>\n",
    "        <td style='text-align: left;'>id</td>\n",
    "        <td style='text-align: left;'>string</td>\n",
    "        <td style='text-align: left;'>+1indEOKr/ikPVrJQTVjw4FGxBE</td>\n",
    "        <td style='text-align: left;'>+1indEOKr/ikPVrJQTVjw4FGxBE</td>\n",
    "    </tr>\n",
    "    <tr>\n",
    "        <td style='text-align: left;'>trip_date</td>\n",
    "        <td style='text-align: left;'>date </td>\n",
    "        <td style='text-align: left;'>2023-01-01</td>\n",
    "        <td style='text-align: left;'>2023-01-01</td>\n",
    "    </tr>\n",
    "    <tr>\n",
    "        <td style='text-align: left;'>trip_sequence</td>\n",
    "        <td style='text-align: left;'>integer</td>\n",
    "        <td style='text-align: left;'>1</td>\n",
    "        <td style='text-align: left;'>1</td>\n",
    "    </tr>\n",
    "    <tr>\n",
    "        <td style='text-align: left;'>trip_sequence</td>\n",
    "        <td style='text-align: left;'>integer</td>\n",
    "        <td style='text-align: left;'>1</td>\n",
    "        <td style='text-align: left;'>1</td>\n",
    "    </tr>\n",
    "    <tr>\n",
    "        <td style='text-align: left;'>mobility_type</td>\n",
    "        <td style='text-align: left;'>string</td>\n",
    "        <td style='text-align: left;'>STAY</td>\n",
    "        <td style='text-align: left;'>MOVE</td>\n",
    "    </tr>\n",
    "    <tr>\n",
    "        <td style='text-align: left;'>passenger</td>\n",
    "        <td style='text-align: left;'>integer</td>\n",
    "        <td style='text-align: left;'>0</td>\n",
    "        <td style='text-align: left;'>1</td>\n",
    "    </tr>\n",
    "    <tr>\n",
    "        <td style='text-align: left;'>total_distance (km)</td>\n",
    "        <td style='text-align: left;'>float</td>\n",
    "        <td style='text-align: left;'>0.0</td>\n",
    "        <td style='text-align: left;'>209.57</td>\n",
    "    </tr>\n",
    "    <tr>\n",
    "        <td style='text-align: left;'>total_time (minutes)</td>\n",
    "        <td style='text-align: left;'>float</td>\n",
    "        <td style='text-align: left;'>318.53</td>\n",
    "        <td style='text-align: left;'>390.3</td>\n",
    "    </tr>\n",
    "    <tr>\n",
    "        <td style='text-align: left;'>overall_speed (km/h)</td>\n",
    "        <td style='text-align: left;'>float</td>\n",
    "        <td style='text-align: left;'>318.53</td>\n",
    "        <td style='text-align: left;'>32.22</td>\n",
    "    </tr>\n",
    "    <tr>\n",
    "        <td style='text-align: left;'>average_speed (km/h)</td>\n",
    "        <td style='text-align: left;'>float</td>\n",
    "        <td style='text-align: left;'>0.0</td>\n",
    "        <td style='text-align: left;'>28.8</td>\n",
    "    </tr>\n",
    "    <tr>\n",
    "        <td style='text-align: left;'>start_time</td>\n",
    "        <td style='text-align: left;'>string</td>\n",
    "        <td style='text-align: left;'>00:02:49</td>\n",
    "        <td style='text-align: left;'>05:21:21</td>\n",
    "    </tr>\n",
    "    <tr>\n",
    "        <td style='text-align: left;'>end_time</td>\n",
    "        <td style='text-align: left;'>string</td>\n",
    "        <td style='text-align: left;'>05:21:21</td>\n",
    "        <td style='text-align: left;'>11:51:39</td>\n",
    "    </tr>\n",
    "    <tr>\n",
    "        <td style='text-align: left;'>total_points</td>\n",
    "        <td style='text-align: left;'>integer</td>\n",
    "        <td style='text-align: left;'>121</td>\n",
    "        <td style='text-align: left;'>283</td>\n",
    "    </tr>\n",
    "    <tr>\n",
    "        <td style='text-align: left;'>sub_district</td>\n",
    "        <td style='text-align: left;'>string</td>\n",
    "        <td style='text-align: left;'>Lam Phak Kut</td>\n",
    "        <td style='text-align: left;'></td>\n",
    "    </tr>\n",
    "    <tr>\n",
    "        <td style='text-align: left;'>district</td>\n",
    "        <td style='text-align: left;'>string</td>\n",
    "        <td style='text-align: left;'>Thanyaburi</td>\n",
    "        <td style='text-align: left;'></td>\n",
    "    </tr>\n",
    "    <tr>\n",
    "        <td style='text-align: left;'>province</td>\n",
    "        <td style='text-align: left;'>string</td>\n",
    "        <td style='text-align: left;'>Pathum Thani</td>\n",
    "        <td style='text-align: left;'></td>\n",
    "    </tr>\n",
    "    <tr>\n",
    "        <td style='text-align: left;'>point_list</td>\n",
    "        <td style='text-align: left;'>string</td>\n",
    "        <td style='text-align: left;'>[[14.032970,100.786000]]</td>\n",
    "        <td style='text-align: left;'>[[\"05:21:21\",14.03297,100.786],[\"05:22:21\",14.0346,100.78606], ..., [\"11:51:39\",14.03296,100.78601]]</td>\n",
    "    </tr>\n",
    "    <tr>\n",
    "        <td style='text-align: left;'>partition_month</td>\n",
    "        <td style='text-align: left;'>string</td>\n",
    "        <td style='text-align: left;'>202301</td>\n",
    "        <td style='text-align: left;'>202301</td>\n",
    "    </tr>\n",
    "</table>"
   ]
  },
  {
   "cell_type": "markdown",
   "id": "e6c915db-46ec-49a8-8305-e71b8c712ab7",
   "metadata": {},
   "source": [
    "**Speed Acceleration table structure** (output table)\n",
    "<table style='float:left;'>\n",
    "    <tr>\n",
    "        <th style='text-align: left;'>Name</th>\n",
    "        <th style='text-align: left;'>Data type</th>\n",
    "        <th style='text-align: left;'>Example</th>\n",
    "    </tr>\n",
    "    <tr>\n",
    "        <td style='text-align: left;'>id</td>\n",
    "        <td style='text-align: left;'>string</td>\n",
    "        <td style='text-align: left;'>+1indEOKr/ikPVrJQTVjw4FGxBE</td>\n",
    "    </tr>\n",
    "    <tr>\n",
    "        <td style='text-align: left;'>trip_date</td>\n",
    "        <td style='text-align: left;'>date</td>\n",
    "        <td style='text-align: left;'>2023-01-01</td>\n",
    "    </tr>\n",
    "    <tr>\n",
    "        <td style='text-align: left;'>hour</td>\n",
    "        <td style='text-align: left;'>integer</td>\n",
    "        <td style='text-align: left;'>5</td>\n",
    "    </tr>\n",
    "    <tr>\n",
    "        <td style='text-align: left;'>lat</td>\n",
    "        <td style='text-align: left;'>float</td>\n",
    "        <td style='text-align: left;'>14.03589</td>\n",
    "    </tr>\n",
    "    <tr>\n",
    "        <td style='text-align: left;'>lon</td>\n",
    "        <td style='text-align: left;'>float</td>\n",
    "        <td style='text-align: left;'>100.78168</td>\n",
    "    </tr>\n",
    "    <tr>\n",
    "        <td style='text-align: left;'>speed (km/h)</td>\n",
    "        <td style='text-align: left;'>float</td>\n",
    "        <td style='text-align: left;'>14.7</td>\n",
    "    </tr>\n",
    "    <tr>\n",
    "        <td style='text-align: left;'>acc (m/s<sup>2</sup>)</td>\n",
    "        <td style='text-align: left;'>float</td>\n",
    "        <td style='text-align: left;'>0.0090</td>\n",
    "    </tr>\n",
    "    <tr>\n",
    "        <td style='text-align: left;'>partition_month</td>\n",
    "        <td style='text-align: left;'>string</td>\n",
    "        <td style='text-align: left;'>202301</td>\n",
    "    </tr>\n",
    "</table>"
   ]
  },
  {
   "cell_type": "code",
   "execution_count": 8,
   "id": "f53d2a99-7377-450e-b713-0c6a84de35b2",
   "metadata": {},
   "outputs": [],
   "source": [
    "database_name = \"probe_taxi\"\n",
    "trip_table = \"trip_point\"\n",
    "speed_acc_table = \"speed_acc\"\n",
    "start_date = '20230101'\n",
    "end_date = '20230101'"
   ]
  },
  {
   "cell_type": "markdown",
   "id": "c60f1600-40ec-4920-9201-c06eec9d64af",
   "metadata": {},
   "source": [
    "# 2. Execution"
   ]
  },
  {
   "cell_type": "code",
   "execution_count": 10,
   "id": "c57ad4f5-184b-4438-82ce-16c7ba31f4cb",
   "metadata": {},
   "outputs": [],
   "source": [
    "vp = VehiclePerformance(spark, database_name, trip_table, speed_acc_table)"
   ]
  },
  {
   "cell_type": "code",
   "execution_count": 13,
   "id": "a8ed345b-bd44-425b-a02d-bbde15d67990",
   "metadata": {
    "scrolled": true
   },
   "outputs": [
    {
     "name": "stderr",
     "output_type": "stream",
     "text": [
      "24/07/12 10:48:36 WARN SimpleFunctionRegistry: The function cal_point_speed_acc replaced a previously registered function.\n",
      "                                                                                \r"
     ]
    },
    {
     "name": "stdout",
     "output_type": "stream",
     "text": [
      "Generate Speed-Acceleration on 20230116 successfuly! \t | Process time: 0.77 mins\n"
     ]
    },
    {
     "name": "stderr",
     "output_type": "stream",
     "text": [
      "                                                                                \r"
     ]
    },
    {
     "name": "stdout",
     "output_type": "stream",
     "text": [
      "Generate Speed-Acceleration on 20230117 successfuly! \t | Process time: 0.25 mins\n"
     ]
    },
    {
     "name": "stderr",
     "output_type": "stream",
     "text": [
      "                                                                                \r"
     ]
    },
    {
     "name": "stdout",
     "output_type": "stream",
     "text": [
      "Generate Speed-Acceleration on 20230118 successfuly! \t | Process time: 0.03 mins\n"
     ]
    },
    {
     "name": "stderr",
     "output_type": "stream",
     "text": [
      "                                                                                \r"
     ]
    },
    {
     "name": "stdout",
     "output_type": "stream",
     "text": [
      "Generate Speed-Acceleration on 20230119 successfuly! \t | Process time: 0.13 mins\n"
     ]
    },
    {
     "name": "stderr",
     "output_type": "stream",
     "text": [
      "                                                                                \r"
     ]
    },
    {
     "name": "stdout",
     "output_type": "stream",
     "text": [
      "Generate Speed-Acceleration on 20230120 successfuly! \t | Process time: 0.78 mins\n"
     ]
    },
    {
     "name": "stderr",
     "output_type": "stream",
     "text": [
      "                                                                                \r"
     ]
    },
    {
     "name": "stdout",
     "output_type": "stream",
     "text": [
      "Generate Speed-Acceleration on 20230121 successfuly! \t | Process time: 0.41 mins\n"
     ]
    },
    {
     "name": "stderr",
     "output_type": "stream",
     "text": [
      "                                                                                \r"
     ]
    },
    {
     "name": "stdout",
     "output_type": "stream",
     "text": [
      "Generate Speed-Acceleration on 20230122 successfuly! \t | Process time: 0.73 mins\n"
     ]
    },
    {
     "name": "stderr",
     "output_type": "stream",
     "text": [
      "                                                                                \r"
     ]
    },
    {
     "name": "stdout",
     "output_type": "stream",
     "text": [
      "Generate Speed-Acceleration on 20230123 successfuly! \t | Process time: 0.76 mins\n"
     ]
    },
    {
     "name": "stderr",
     "output_type": "stream",
     "text": [
      "                                                                                \r"
     ]
    },
    {
     "name": "stdout",
     "output_type": "stream",
     "text": [
      "Generate Speed-Acceleration on 20230124 successfuly! \t | Process time: 0.43 mins\n"
     ]
    },
    {
     "name": "stderr",
     "output_type": "stream",
     "text": [
      "                                                                                \r"
     ]
    },
    {
     "name": "stdout",
     "output_type": "stream",
     "text": [
      "Generate Speed-Acceleration on 20230125 successfuly! \t | Process time: 0.43 mins\n"
     ]
    },
    {
     "name": "stderr",
     "output_type": "stream",
     "text": [
      "                                                                                \r"
     ]
    },
    {
     "name": "stdout",
     "output_type": "stream",
     "text": [
      "Generate Speed-Acceleration on 20230126 successfuly! \t | Process time: 0.80 mins\n"
     ]
    },
    {
     "name": "stderr",
     "output_type": "stream",
     "text": [
      "                                                                                \r"
     ]
    },
    {
     "name": "stdout",
     "output_type": "stream",
     "text": [
      "Generate Speed-Acceleration on 20230127 successfuly! \t | Process time: 0.83 mins\n"
     ]
    },
    {
     "name": "stderr",
     "output_type": "stream",
     "text": [
      "                                                                                \r"
     ]
    },
    {
     "name": "stdout",
     "output_type": "stream",
     "text": [
      "Generate Speed-Acceleration on 20230128 successfuly! \t | Process time: 0.81 mins\n"
     ]
    },
    {
     "name": "stderr",
     "output_type": "stream",
     "text": [
      "                                                                                \r"
     ]
    },
    {
     "name": "stdout",
     "output_type": "stream",
     "text": [
      "Generate Speed-Acceleration on 20230129 successfuly! \t | Process time: 0.40 mins\n"
     ]
    },
    {
     "name": "stderr",
     "output_type": "stream",
     "text": [
      "                                                                                \r"
     ]
    },
    {
     "name": "stdout",
     "output_type": "stream",
     "text": [
      "Generate Speed-Acceleration on 20230130 successfuly! \t | Process time: 0.79 mins\n"
     ]
    },
    {
     "name": "stderr",
     "output_type": "stream",
     "text": [
      "[Stage 36:================================================>         (5 + 1) / 6]\r"
     ]
    },
    {
     "name": "stdout",
     "output_type": "stream",
     "text": [
      "Generate Speed-Acceleration on 20230131 successfuly! \t | Process time: 0.80 mins\n"
     ]
    },
    {
     "name": "stderr",
     "output_type": "stream",
     "text": [
      "                                                                                \r"
     ]
    }
   ],
   "source": [
    "vp.generate_speed_acc(start_date, end_date)"
   ]
  }
 ],
 "metadata": {
  "kernelspec": {
   "display_name": "Python 3 (ipykernel)",
   "language": "python",
   "name": "python3"
  },
  "language_info": {
   "codemirror_mode": {
    "name": "ipython",
    "version": 3
   },
   "file_extension": ".py",
   "mimetype": "text/x-python",
   "name": "python",
   "nbconvert_exporter": "python",
   "pygments_lexer": "ipython3",
   "version": "3.8.12"
  }
 },
 "nbformat": 4,
 "nbformat_minor": 5
}
