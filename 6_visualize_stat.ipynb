{
 "cells": [
  {
   "cell_type": "markdown",
   "id": "c1e40e35-266d-4e86-b1c1-c89f3d38a760",
   "metadata": {},
   "source": [
    "# 1. Initialize"
   ]
  },
  {
   "cell_type": "markdown",
   "id": "de806bf1-cc0a-450e-9b36-730ab2408efb",
   "metadata": {},
   "source": [
    "### Libraries and Spark context"
   ]
  },
  {
   "cell_type": "code",
   "execution_count": 2,
   "id": "6ed7e9c2-1e14-4cca-85ee-d9c26e027abd",
   "metadata": {},
   "outputs": [],
   "source": [
    "import pyspark\n",
    "from pyspark.sql import SparkSession\n",
    "from probetrip.visualize import StatVis"
   ]
  },
  {
   "cell_type": "code",
   "execution_count": null,
   "id": "92395a5a-d8c0-4e4d-b5d0-bde70a65bf4a",
   "metadata": {},
   "outputs": [],
   "source": [
    "spark = SparkSession.builder.master(\"yarn\").appName(\"6_visualize_stat\") \\\n",
    "        .config(\"spark.executor.cores\", \"2\").config(\"spark.driver.cores\", \"1\") \\\n",
    "        .config(\"spark.executor.memory\", \"4g\").config(\"spark.driver.memory\", \"2g\") \\\n",
    "        .config(\"spark.executor.instances\", \"2\") \\\n",
    "        .config(\"spark.dynamicAllocation.enabled\", \"true\") \\\n",
    "        .config(\"spark.dynamicAllocation.minExecutors\", \"1\").config(\"spark.dynamicAllocation.maxExecutors\", \"3\") \\\n",
    "        .config(\"spark.sql.catalogImplementation\", \"hive\") \\\n",
    "        .config(\"metastore.catalog.default\", \"hive\") \\\n",
    "        .enableHiveSupport() \\\n",
    "        .getOrCreate()"
   ]
  },
  {
   "cell_type": "code",
   "execution_count": 45,
   "id": "d0e74a1b-d11c-4568-8d69-2b5ac9e21da7",
   "metadata": {},
   "outputs": [],
   "source": [
    "spark.stop()"
   ]
  },
  {
   "cell_type": "markdown",
   "id": "b345f400-2050-49e8-b669-49d468b7c441",
   "metadata": {},
   "source": [
    "### Required parameter"
   ]
  },
  {
   "cell_type": "code",
   "execution_count": null,
   "id": "1311bda2-2fbe-407a-8fc2-bc58489b163f",
   "metadata": {},
   "outputs": [],
   "source": [
    "database_name = \"probe_taxi\"\n",
    "trip_table = \"trip_point\"\n",
    "od_table = \"od_occupied\"\n",
    "speed_acc_table = \"speed_acc\"\n",
    "spark_stat_table = \"spark_stat\"\n",
    "month = '202301'\n",
    "trip_date = '2023-01-01' # only use for speeding area due to cannot plot on whole month"
   ]
  },
  {
   "cell_type": "markdown",
   "id": "145bc54c-1f2a-4c65-8309-b8caaee0a073",
   "metadata": {},
   "source": [
    "# 2. Execution"
   ]
  },
  {
   "cell_type": "code",
   "execution_count": null,
   "id": "1091e90f-fab1-4262-8bac-44cf6832a834",
   "metadata": {},
   "outputs": [],
   "source": [
    "sv = StatVis(spark, database_name, trip_table, od_table, speed_acc_table)"
   ]
  },
  {
   "cell_type": "markdown",
   "id": "8d1723fd-3290-460e-a3a7-a95971592258",
   "metadata": {
    "jp-MarkdownHeadingCollapsed": true
   },
   "source": [
    "### Travel pattern"
   ]
  },
  {
   "cell_type": "code",
   "execution_count": null,
   "id": "3a9a1cbf-98e0-4151-941f-9c32287312dc",
   "metadata": {},
   "outputs": [],
   "source": [
    "fig = sv.total_trip(month)\n",
    "fig.savefig('result/total_trip.png')"
   ]
  },
  {
   "cell_type": "code",
   "execution_count": null,
   "id": "1323b7bd-ba2c-4f9d-a0cd-d3f82794b807",
   "metadata": {},
   "outputs": [],
   "source": [
    "fig = sv.trip_distribution('distance', month)\n",
    "fig.savefig('result/distance_distribution.png')"
   ]
  },
  {
   "cell_type": "code",
   "execution_count": null,
   "id": "b544136e-42e9-4bed-b384-984a1750a6da",
   "metadata": {},
   "outputs": [],
   "source": [
    "fig = sv.trip_distribution('duration', month)\n",
    "fig.savefig('result/duration_distribution.png')"
   ]
  },
  {
   "cell_type": "code",
   "execution_count": null,
   "id": "4a23d9bd-0b91-4194-b040-018bbdcbe986",
   "metadata": {},
   "outputs": [],
   "source": [
    "fig = sv.od_heatmap('Bangkok', month)\n",
    "fig.savefig('result/od_heatmap.png')"
   ]
  },
  {
   "cell_type": "markdown",
   "id": "d0e93f9d-913a-4e17-b3ed-ff3ef6830d06",
   "metadata": {},
   "source": [
    "### Accessibility"
   ]
  },
  {
   "cell_type": "code",
   "execution_count": null,
   "id": "2804cf19-0821-49ed-94e0-a04e66699132",
   "metadata": {},
   "outputs": [],
   "source": [
    "sv.od_density_map('Bangkok', 'Origin', month, eps=100, min_samples=40)"
   ]
  },
  {
   "cell_type": "code",
   "execution_count": null,
   "id": "31b4ecb6-0b6c-4b5e-be64-c5d72287100d",
   "metadata": {},
   "outputs": [],
   "source": [
    "sv.od_density_map('Bangkok', 'Destination', month, eps=100, min_samples=40)"
   ]
  },
  {
   "cell_type": "code",
   "execution_count": null,
   "id": "989e4784-99c5-465e-bc49-506e31929984",
   "metadata": {},
   "outputs": [],
   "source": [
    "sv.od_density_map_overall('Bangkok', month, eps=100, min_samples=40)"
   ]
  },
  {
   "cell_type": "markdown",
   "id": "f8f70dd2-7e95-4af1-a82f-df66caebeffa",
   "metadata": {
    "jp-MarkdownHeadingCollapsed": true
   },
   "source": [
    "### Speed and safety"
   ]
  },
  {
   "cell_type": "code",
   "execution_count": null,
   "id": "ebb6f291-a86a-4987-9ff4-bb656a03dd09",
   "metadata": {},
   "outputs": [],
   "source": [
    "fig = sv.trip_distribution('speed', month)\n",
    "fig.savefig('result/speed_distribution.png')"
   ]
  },
  {
   "cell_type": "code",
   "execution_count": null,
   "id": "5e69b786-54ad-4001-bf96-30342238a820",
   "metadata": {},
   "outputs": [],
   "source": [
    "sv.speed_acc_area('speed', trip_date, 5)"
   ]
  },
  {
   "cell_type": "code",
   "execution_count": null,
   "id": "9028f816-9ce2-47e9-8d49-1c40ec86cbb2",
   "metadata": {},
   "outputs": [],
   "source": [
    "sv.speed_acc_area('acc', trip_date, 5)"
   ]
  },
  {
   "cell_type": "markdown",
   "id": "9881915b-3a18-4b54-9f85-c55a24c17ee0",
   "metadata": {
    "jp-MarkdownHeadingCollapsed": true
   },
   "source": [
    "### Stay spot"
   ]
  },
  {
   "cell_type": "code",
   "execution_count": null,
   "id": "be057472-449b-4e55-8359-e06aaccee403",
   "metadata": {},
   "outputs": [],
   "source": [
    "fig = sv.stay_hourly_volume(month)\n",
    "fig.savefig('result/stay_hourly_volume.png')"
   ]
  },
  {
   "cell_type": "code",
   "execution_count": null,
   "id": "fdb87841-b110-44b5-b685-0b05edbcf155",
   "metadata": {},
   "outputs": [],
   "source": [
    "sv.stay_spot('<15', month, eps=100, min_samples=30)"
   ]
  },
  {
   "cell_type": "code",
   "execution_count": null,
   "id": "763e0300-0c4c-4702-ba8f-58e4470ebc93",
   "metadata": {},
   "outputs": [],
   "source": [
    "sv.stay_spot_overall(['<=15', '15-200', '>200'], month, [100, 100, 100], [30, 130, 300])"
   ]
  },
  {
   "cell_type": "markdown",
   "id": "ec5a55d8-4032-4062-b342-c7f7046296c5",
   "metadata": {},
   "source": [
    "### Spark statistic"
   ]
  },
  {
   "cell_type": "code",
   "execution_count": null,
   "id": "36494a55-d078-468d-9b1c-91326f28e03e",
   "metadata": {},
   "outputs": [],
   "source": [
    "fig = sv.spark_stat([[2,1,4], [2,2,4], [3,2,4], [2,4,8], [3,3,6]])\n",
    "fig.savefig('result/spark_stat.png')"
   ]
  }
 ],
 "metadata": {
  "kernelspec": {
   "display_name": "Python 3 (ipykernel)",
   "language": "python",
   "name": "python3"
  },
  "language_info": {
   "codemirror_mode": {
    "name": "ipython",
    "version": 3
   },
   "file_extension": ".py",
   "mimetype": "text/x-python",
   "name": "python",
   "nbconvert_exporter": "python",
   "pygments_lexer": "ipython3",
   "version": "3.8.12"
  }
 },
 "nbformat": 4,
 "nbformat_minor": 5
}
